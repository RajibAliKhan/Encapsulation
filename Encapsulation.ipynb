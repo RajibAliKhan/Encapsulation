{
 "cells": [
  {
   "cell_type": "code",
   "execution_count": 2,
   "id": "31c741ea-c64c-42a8-ae96-4c6bb711f2cc",
   "metadata": {},
   "outputs": [],
   "source": [
    "class test :\n",
    "    def __init__(self, a,b) :\n",
    "        self.a = a\n",
    "        self.b = b"
   ]
  },
  {
   "cell_type": "code",
   "execution_count": 3,
   "id": "b4165bfa-2e21-4ffc-9c04-034b8d80831a",
   "metadata": {},
   "outputs": [],
   "source": [
    "t = test(20,21)"
   ]
  },
  {
   "cell_type": "code",
   "execution_count": 4,
   "id": "eae967c0-31d1-41c8-8a64-57d72a2470a6",
   "metadata": {},
   "outputs": [],
   "source": [
    "t.a = 2030"
   ]
  },
  {
   "cell_type": "code",
   "execution_count": 5,
   "id": "be1a29e1-8e1e-4dfc-91b0-a135638c720e",
   "metadata": {},
   "outputs": [
    {
     "data": {
      "text/plain": [
       "2030"
      ]
     },
     "execution_count": 5,
     "metadata": {},
     "output_type": "execute_result"
    }
   ],
   "source": [
    "t.a"
   ]
  },
  {
   "cell_type": "code",
   "execution_count": 6,
   "id": "838e8868-3f83-4201-a878-5b9b5c22c450",
   "metadata": {},
   "outputs": [
    {
     "data": {
      "text/plain": [
       "21"
      ]
     },
     "execution_count": 6,
     "metadata": {},
     "output_type": "execute_result"
    }
   ],
   "source": [
    "t.b"
   ]
  },
  {
   "cell_type": "code",
   "execution_count": 7,
   "id": "4b78515d-43fa-40c6-8af4-9d4b7777fe16",
   "metadata": {},
   "outputs": [],
   "source": [
    "t.a = 895"
   ]
  },
  {
   "cell_type": "code",
   "execution_count": 8,
   "id": "0317cdb0-49a4-4567-90c2-d5cdec570c23",
   "metadata": {},
   "outputs": [
    {
     "data": {
      "text/plain": [
       "895"
      ]
     },
     "execution_count": 8,
     "metadata": {},
     "output_type": "execute_result"
    }
   ],
   "source": [
    "t.a"
   ]
  },
  {
   "cell_type": "code",
   "execution_count": 9,
   "id": "48e5239c-8ddf-4db1-8981-00364d35f109",
   "metadata": {},
   "outputs": [],
   "source": [
    "# here, '__year' is used for hiding the information from user.\n",
    "# we cann't access the data of '__year' by using c. tab button.\n",
    "# for this, we directly put all information like c.__year\n",
    "\n",
    "class car :\n",
    "    def __init__(self, year, make, model, speed) :\n",
    "        self.__year = year\n",
    "        self.__make = make\n",
    "        self.__model = model\n",
    "        self.__speed = 0"
   ]
  },
  {
   "cell_type": "code",
   "execution_count": 10,
   "id": "245d549d-6dfd-4783-8a9e-ba85c96d08d4",
   "metadata": {},
   "outputs": [],
   "source": [
    "c = car(2023, 'Kawasaki', 'Ninja H2', 400)"
   ]
  },
  {
   "cell_type": "code",
   "execution_count": 11,
   "id": "47536e74-7ec7-458d-9430-1317047b6b53",
   "metadata": {},
   "outputs": [
    {
     "ename": "AttributeError",
     "evalue": "'car' object has no attribute 'year'",
     "output_type": "error",
     "traceback": [
      "\u001b[0;31m---------------------------------------------------------------------------\u001b[0m",
      "\u001b[0;31mAttributeError\u001b[0m                            Traceback (most recent call last)",
      "Cell \u001b[0;32mIn[11], line 1\u001b[0m\n\u001b[0;32m----> 1\u001b[0m \u001b[43mc\u001b[49m\u001b[38;5;241;43m.\u001b[39;49m\u001b[43myear\u001b[49m\n",
      "\u001b[0;31mAttributeError\u001b[0m: 'car' object has no attribute 'year'"
     ]
    }
   ],
   "source": [
    "# here, I used to 'year' only  and not getting any output.\n",
    "\n",
    "c.year"
   ]
  },
  {
   "cell_type": "code",
   "execution_count": 12,
   "id": "2d352fae-c409-4fab-a9be-99168375f44c",
   "metadata": {},
   "outputs": [
    {
     "ename": "AttributeError",
     "evalue": "'car' object has no attribute '__year'",
     "output_type": "error",
     "traceback": [
      "\u001b[0;31m---------------------------------------------------------------------------\u001b[0m",
      "\u001b[0;31mAttributeError\u001b[0m                            Traceback (most recent call last)",
      "Cell \u001b[0;32mIn[12], line 1\u001b[0m\n\u001b[0;32m----> 1\u001b[0m \u001b[43mc\u001b[49m\u001b[38;5;241;43m.\u001b[39;49m\u001b[43m__year\u001b[49m\n",
      "\u001b[0;31mAttributeError\u001b[0m: 'car' object has no attribute '__year'"
     ]
    }
   ],
   "source": [
    "# here, I used to '__year' and not getting any output.\n",
    "\n",
    "c.__year"
   ]
  },
  {
   "cell_type": "code",
   "execution_count": 13,
   "id": "2f24eee6-4401-4bba-bd30-c389d17e445d",
   "metadata": {},
   "outputs": [
    {
     "data": {
      "text/plain": [
       "2023"
      ]
     },
     "execution_count": 13,
     "metadata": {},
     "output_type": "execute_result"
    }
   ],
   "source": [
    "# here I use '_car__year' and getiing a output.\n",
    "# here car is a class.\n",
    "\n",
    "c._car__year"
   ]
  },
  {
   "cell_type": "code",
   "execution_count": 21,
   "id": "6131e495-be08-46fa-ae34-2cd098b72915",
   "metadata": {},
   "outputs": [],
   "source": [
    "class car :\n",
    "    def __init__(self, year, make, model, speed) :\n",
    "        self.__year = year\n",
    "        self.__make = make\n",
    "        self.__model = model\n",
    "        self.__speed = 0\n",
    "    def set_speed(self, speed) :\n",
    "        self.__speed = 0 if speed < 0 else speed\n",
    "    def get_speed(self) :\n",
    "        return self.__speed"
   ]
  },
  {
   "cell_type": "code",
   "execution_count": 22,
   "id": "4970c28b-1377-4d00-a197-4cff9a58361c",
   "metadata": {},
   "outputs": [],
   "source": [
    "c = car(2023, 'Kawasaki', 'Ninja H2', 400)"
   ]
  },
  {
   "cell_type": "code",
   "execution_count": 23,
   "id": "7bcc6d2d-1f8b-4d9c-a1df-eaa067d90ad3",
   "metadata": {},
   "outputs": [],
   "source": [
    "c.set_speed(-96)"
   ]
  },
  {
   "cell_type": "code",
   "execution_count": 24,
   "id": "17614fd9-28d8-44f8-87fc-b683b647f993",
   "metadata": {},
   "outputs": [
    {
     "data": {
      "text/plain": [
       "0"
      ]
     },
     "execution_count": 24,
     "metadata": {},
     "output_type": "execute_result"
    }
   ],
   "source": [
    "c.get_speed()"
   ]
  },
  {
   "cell_type": "code",
   "execution_count": 41,
   "id": "49f8cc53-dfb5-4bc2-b063-0bea30fbeb33",
   "metadata": {},
   "outputs": [],
   "source": [
    "class bank_account :\n",
    "    def __init__(self, balance) :\n",
    "        self.__balance = balance\n",
    "    def deposit(self, amount) :\n",
    "        self.__balance = self.__balance + amount\n",
    "    def withdraw(self, amount) :\n",
    "        if self.__balance >= amount :\n",
    "            self.__balance = self.__balance - amount\n",
    "            return True\n",
    "        else :\n",
    "            return False\n",
    "    def get_balance(self) :\n",
    "        return self.__balance"
   ]
  },
  {
   "cell_type": "code",
   "execution_count": 42,
   "id": "583d8ab0-59df-4e7b-98eb-47312cddf5d4",
   "metadata": {},
   "outputs": [],
   "source": [
    "rajib = bank_account(999)"
   ]
  },
  {
   "cell_type": "code",
   "execution_count": 43,
   "id": "6dd7ab06-d8d4-4181-991b-41b0c7dd9ab9",
   "metadata": {},
   "outputs": [
    {
     "data": {
      "text/plain": [
       "999"
      ]
     },
     "execution_count": 43,
     "metadata": {},
     "output_type": "execute_result"
    }
   ],
   "source": [
    "rajib.get_balance()"
   ]
  },
  {
   "cell_type": "code",
   "execution_count": 44,
   "id": "390e6e02-6b99-4ae1-b8d8-4f6c188df57b",
   "metadata": {},
   "outputs": [],
   "source": [
    "rajib.deposit(499)"
   ]
  },
  {
   "cell_type": "code",
   "execution_count": 45,
   "id": "e178de80-17ea-498f-b6ea-a6b94345c3bd",
   "metadata": {},
   "outputs": [
    {
     "data": {
      "text/plain": [
       "1498"
      ]
     },
     "execution_count": 45,
     "metadata": {},
     "output_type": "execute_result"
    }
   ],
   "source": [
    "rajib.get_balance()"
   ]
  },
  {
   "cell_type": "code",
   "execution_count": 46,
   "id": "d00b48b7-97e2-4d3e-89ce-0d8069465abd",
   "metadata": {},
   "outputs": [
    {
     "data": {
      "text/plain": [
       "2498"
      ]
     },
     "execution_count": 46,
     "metadata": {},
     "output_type": "execute_result"
    }
   ],
   "source": [
    "rajib.deposit(1000)\n",
    "rajib.get_balance()"
   ]
  },
  {
   "cell_type": "code",
   "execution_count": 47,
   "id": "e2f08a3f-afd5-4076-af61-a5b8947e82e6",
   "metadata": {},
   "outputs": [
    {
     "data": {
      "text/plain": [
       "False"
      ]
     },
     "execution_count": 47,
     "metadata": {},
     "output_type": "execute_result"
    }
   ],
   "source": [
    "rajib.withdraw(3000)"
   ]
  },
  {
   "cell_type": "code",
   "execution_count": 48,
   "id": "29a667ae-556e-44fb-b0e8-89ebc75f9ca3",
   "metadata": {},
   "outputs": [
    {
     "data": {
      "text/plain": [
       "True"
      ]
     },
     "execution_count": 48,
     "metadata": {},
     "output_type": "execute_result"
    }
   ],
   "source": [
    "rajib.withdraw(500)"
   ]
  },
  {
   "cell_type": "code",
   "execution_count": 61,
   "id": "3119645b-6dc2-450e-832d-7b3b9abac4f0",
   "metadata": {},
   "outputs": [],
   "source": [
    "class Employee :\n",
    "    def __init__(self, name, position, salary, project) :\n",
    "        self.name = name\n",
    "        self.position = position\n",
    "        self.salary = salary\n",
    "        self.project = project\n",
    "    def employee_info(self) :\n",
    "        print('Name: ', self.name, 'Position:',self.position, 'Salary:', self.salary)\n",
    "    def employee_pro(self) :\n",
    "        print('Project:', self.project)"
   ]
  },
  {
   "cell_type": "code",
   "execution_count": 62,
   "id": "248d98dd-347e-4e38-9070-a6c5ed4ead32",
   "metadata": {},
   "outputs": [],
   "source": [
    "rak = Employee('Rajib Ali Khan', 'Data Science Masters', 50000, 'The Data Science')"
   ]
  },
  {
   "cell_type": "code",
   "execution_count": 63,
   "id": "969a8dd5-12a4-4890-b336-80aa6eab9966",
   "metadata": {},
   "outputs": [
    {
     "name": "stdout",
     "output_type": "stream",
     "text": [
      "Name:  Rajib Ali Khan Position: Data Science Masters Salary: 50000\n",
      "Project: The Data Science\n"
     ]
    }
   ],
   "source": [
    "rak.employee_info()\n",
    "rak.employee_pro()"
   ]
  },
  {
   "cell_type": "code",
   "execution_count": 64,
   "id": "b70e6f62-89c6-4214-a7be-b5d35d8dac27",
   "metadata": {},
   "outputs": [],
   "source": [
    "class Country :\n",
    "    def __init__(self, name, area, population, state, district) :\n",
    "        self.name = name\n",
    "        self.area = area\n",
    "        self.population = population\n",
    "        self.state = state\n",
    "        self.district = district\n",
    "    def country_info(self) :\n",
    "        print('Name :', self.name, 'Area :', self.area, 'Population :', self.population, 'State :', self.state, 'District :', self.district)"
   ]
  },
  {
   "cell_type": "code",
   "execution_count": 66,
   "id": "5cbfc1ef-56e0-4eca-ad61-cd6b98aa34b3",
   "metadata": {},
   "outputs": [],
   "source": [
    "c = Country('India',800000, 145000000, 'West Bengal','Purba Medinipur')"
   ]
  },
  {
   "cell_type": "code",
   "execution_count": 67,
   "id": "f911d82e-a706-4c5f-85ef-f9df51cd2cfe",
   "metadata": {},
   "outputs": [
    {
     "name": "stdout",
     "output_type": "stream",
     "text": [
      "Name : India Area : 800000 Population : 145000000 State : West Bengal District : Purba Medinipur\n"
     ]
    }
   ],
   "source": [
    "c.country_info()"
   ]
  },
  {
   "cell_type": "code",
   "execution_count": 77,
   "id": "45f3d7b2-db3a-4931-ad84-414f7047b18b",
   "metadata": {},
   "outputs": [],
   "source": [
    "class about_me :\n",
    "    def __init__(self, name, age, height, weight, nick_name) :\n",
    "        self.name = name\n",
    "        self.age = age\n",
    "        self.height = height\n",
    "        self.weight = weight\n",
    "        self.nick_name = nick_name\n",
    "    def info_about_me(self) :\n",
    "        print('My name is',self.name,'and my age is', self.age, 'and my height is', self.height, 'my weight is', self.weight, 'my nick_name is', self.nick_name)"
   ]
  },
  {
   "cell_type": "code",
   "execution_count": 80,
   "id": "3a181fc1-3804-4739-bbef-7363ea25080f",
   "metadata": {},
   "outputs": [],
   "source": [
    "a = about_me('Rajib Ali Khan', 23, '6ft', '80kg', 'RAK')"
   ]
  },
  {
   "cell_type": "code",
   "execution_count": 81,
   "id": "6b951de2-6277-4cc0-8db1-d1c5baca3049",
   "metadata": {},
   "outputs": [
    {
     "name": "stdout",
     "output_type": "stream",
     "text": [
      "My name is Rajib Ali Khan and my age is 23 and my height is 6ft my weight is 80kg my nick_name is RAK\n"
     ]
    }
   ],
   "source": [
    "a.info_about_me()"
   ]
  }
 ],
 "metadata": {
  "kernelspec": {
   "display_name": "Python 3 (ipykernel)",
   "language": "python",
   "name": "python3"
  },
  "language_info": {
   "codemirror_mode": {
    "name": "ipython",
    "version": 3
   },
   "file_extension": ".py",
   "mimetype": "text/x-python",
   "name": "python",
   "nbconvert_exporter": "python",
   "pygments_lexer": "ipython3",
   "version": "3.10.8"
  }
 },
 "nbformat": 4,
 "nbformat_minor": 5
}
